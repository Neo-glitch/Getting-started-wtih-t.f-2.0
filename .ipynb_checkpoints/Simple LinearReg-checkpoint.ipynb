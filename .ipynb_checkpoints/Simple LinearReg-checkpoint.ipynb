{
 "cells": [
  {
   "cell_type": "markdown",
   "metadata": {},
   "source": [
    "* Here we will create lin reg model but in this case model params and gradient calc will be updated and done manually"
   ]
  },
  {
   "cell_type": "code",
   "execution_count": 1,
   "metadata": {},
   "outputs": [],
   "source": [
    "import tensorflow as tf\n",
    "import numpy as np\n",
    "import matplotlib.pyplot as plt\n",
    "import pandas as pd"
   ]
  },
  {
   "cell_type": "code",
   "execution_count": 2,
   "metadata": {},
   "outputs": [],
   "source": [
    "# actual correct value of bias and W(weight)\n",
    "W_true = 2\n",
    "b_true = 0.5"
   ]
  },
  {
   "cell_type": "code",
   "execution_count": 3,
   "metadata": {},
   "outputs": [],
   "source": [
    "x = np.linspace(0, 3, 130)\n",
    "\n",
    "y = W_true * x + b_true + np.random.randn(*x.shape) * 0.5"
   ]
  },
  {
   "cell_type": "code",
   "execution_count": 5,
   "metadata": {},
   "outputs": [
    {
     "data": {
      "image/png": "[encoded data removed]",
      "text/plain": [
       "<Figure size 576x576 with 1 Axes>"
      ]
     },
     "metadata": {
      "needs_background": "light"
     },
     "output_type": "display_data"
    }
   ],
   "source": [
    "# data viz our gen data\n",
    "plt.figure(figsize = (8, 8))\n",
    "\n",
    "plt.scatter(x, y)\n",
    "plt.xlabel(\"x\")\n",
    "plt.ylabel(\"y\")\n",
    "\n",
    "plt.title(\"Training Data\")\n",
    "plt.show()"
   ]
  },
  {
   "cell_type": "code",
   "execution_count": 17,
   "metadata": {},
   "outputs": [],
   "source": [
    "# class to init w and b to be modified during training\n",
    "class LinearModel:\n",
    "    \n",
    "    def __init__(self):\n",
    "        self.weight = tf.Variable(np.random.randn(), name = \"w\")\n",
    "        self.bias = tf.Variable(np.random.randn(), name =\"b\")\n",
    "        \n",
    "    def __call__(self, x):  # called during forward pass of simple linreg model\n",
    "        return self.weight * x + self.bias"
   ]
  },
  {
   "cell_type": "code",
   "execution_count": 18,
   "metadata": {},
   "outputs": [],
   "source": [
    "def loss(y, y_pred):\n",
    "    return tf.reduce_mean(tf.square(y - y_pred))"
   ]
  },
  {
   "cell_type": "code",
   "execution_count": 25,
   "metadata": {},
   "outputs": [],
   "source": [
    "# training process of lin model\n",
    "def train(linear_model, x, y, lr = 0.01):\n",
    "    with tf.GradientTape() as tape:\n",
    "        \n",
    "        y_pred = linear_model(x)  # passing x calls the __call__ fun of linear model class after init\n",
    "        \n",
    "        current_loss = loss(y, y_pred)\n",
    "        \n",
    "    # calc gradient of current loss wrt weight and bias(trainable params)\n",
    "    d_weight, d_bias = tape.gradient(current_loss, [linear_model.weight, linear_model.bias])\n",
    "    \n",
    "    # updates weight value and bias value by subing lr* d_weight and d_bias from previous weight value\n",
    "    linear_model.weight.assign_sub(lr * d_weight)\n",
    "    linear_model.bias.assign_sub(lr * d_bias)"
   ]
  },
  {
   "cell_type": "code",
   "execution_count": 26,
   "metadata": {},
   "outputs": [],
   "source": [
    "linear_model = LinearModel()\n",
    "\n",
    "weights, biases = [], []\n",
    "\n",
    "epochs = 10\n",
    "\n",
    "lr = 0.15"
   ]
  },
  {
   "cell_type": "code",
   "execution_count": 27,
   "metadata": {},
   "outputs": [
    {
     "name": "stdout",
     "output_type": "stream",
     "text": [
      "Epoch count 0: Loss Value: 6.217810153961182\n",
      "Epoch count 1: Loss Value: 0.36469003558158875\n",
      "Epoch count 2: Loss Value: 0.2431085705757141\n",
      "Epoch count 3: Loss Value: 0.23974201083183289\n",
      "Epoch count 4: Loss Value: 0.23891152441501617\n",
      "Epoch count 5: Loss Value: 0.23822177946567535\n",
      "Epoch count 6: Loss Value: 0.23761320114135742\n",
      "Epoch count 7: Loss Value: 0.23707535862922668\n",
      "Epoch count 8: Loss Value: 0.2366001009941101\n",
      "Epoch count 9: Loss Value: 0.23618006706237793\n"
     ]
    }
   ],
   "source": [
    "for epoch_count in range(epochs):\n",
    "    weights.append(linear_model.weight.numpy())\n",
    "    biases.append(linear_model.bias.numpy())\n",
    "    \n",
    "    real_loss = loss(y, linear_model(x))\n",
    "    \n",
    "    train(linear_model, x, y, lr = lr)\n",
    "    \n",
    "    print(f\"Epoch count {epoch_count}: Loss Value: {real_loss.numpy()}\")"
   ]
  },
  {
   "cell_type": "code",
   "execution_count": 28,
   "metadata": {},
   "outputs": [
    {
     "data": {
      "image/png": "[encoded data removed]",
      "text/plain": [
       "<Figure size 576x576 with 1 Axes>"
      ]
     },
     "metadata": {
      "needs_background": "light"
     },
     "output_type": "display_data"
    }
   ],
   "source": [
    "# data viz on how w and b of trained model, match up with actau; w and b\n",
    "\n",
    "plt.figure(figsize = (8, 8))\n",
    "\n",
    "plt.plot(range(epochs), weights, \"r\", range(epochs), biases, \"b\")\n",
    "plt.plot([W_true] * epochs, \"r--\", [b_true] * epochs, \"b--\")\n",
    "\n",
    "plt.legend([\"w\", \"b\", \"true W\", \"true b\"])\n",
    "plt.show();\n",
    "\n",
    "# dotted lines is true value of w and b"
   ]
  },
  {
   "cell_type": "code",
   "execution_count": 29,
   "metadata": {},
   "outputs": [
    {
     "data": {
      "text/plain": [
       "(<tf.Variable 'w:0' shape=() dtype=float32, numpy=1.9231169>,\n",
       " <tf.Variable 'b:0' shape=() dtype=float32, numpy=0.6677973>)"
      ]
     },
     "execution_count": 29,
     "metadata": {},
     "output_type": "execute_result"
    }
   ],
   "source": [
    "# final w and b gotten via the model\n",
    "linear_model.weight, linear_model.bias"
   ]
  },
  {
   "cell_type": "code",
   "execution_count": null,
   "metadata": {},
   "outputs": [],
   "source": []
  },
  {
   "cell_type": "code",
   "execution_count": null,
   "metadata": {},
   "outputs": [],
   "source": []
  },
  {
   "cell_type": "code",
   "execution_count": null,
   "metadata": {},
   "outputs": [],
   "source": []
  },
  {
   "cell_type": "code",
   "execution_count": null,
   "metadata": {},
   "outputs": [],
   "source": []
  },
  {
   "cell_type": "code",
   "execution_count": null,
   "metadata": {},
   "outputs": [],
   "source": []
  },
  {
   "cell_type": "code",
   "execution_count": null,
   "metadata": {},
   "outputs": [],
   "source": []
  },
  {
   "cell_type": "code",
   "execution_count": null,
   "metadata": {},
   "outputs": [],
   "source": []
  },
  {
   "cell_type": "code",
   "execution_count": null,
   "metadata": {},
   "outputs": [],
   "source": []
  },
  {
   "cell_type": "code",
   "execution_count": null,
   "metadata": {},
   "outputs": [],
   "source": []
  },
  {
   "cell_type": "code",
   "execution_count": null,
   "metadata": {},
   "outputs": [],
   "source": []
  },
  {
   "cell_type": "code",
   "execution_count": null,
   "metadata": {},
   "outputs": [],
   "source": []
  },
  {
   "cell_type": "code",
   "execution_count": null,
   "metadata": {},
   "outputs": [],
   "source": []
  },
  {
   "cell_type": "code",
   "execution_count": null,
   "metadata": {},
   "outputs": [],
   "source": []
  },
  {
   "cell_type": "code",
   "execution_count": null,
   "metadata": {},
   "outputs": [],
   "source": []
  },
  {
   "cell_type": "code",
   "execution_count": null,
   "metadata": {},
   "outputs": [],
   "source": []
  },
  {
   "cell_type": "code",
   "execution_count": null,
   "metadata": {},
   "outputs": [],
   "source": []
  },
  {
   "cell_type": "code",
   "execution_count": null,
   "metadata": {},
   "outputs": [],
   "source": []
  },
  {
   "cell_type": "code",
   "execution_count": null,
   "metadata": {},
   "outputs": [],
   "source": []
  },
  {
   "cell_type": "code",
   "execution_count": null,
   "metadata": {},
   "outputs": [],
   "source": []
  },
  {
   "cell_type": "code",
   "execution_count": null,
   "metadata": {},
   "outputs": [],
   "source": []
  },
  {
   "cell_type": "code",
   "execution_count": null,
   "metadata": {},
   "outputs": [],
   "source": []
  },
  {
   "cell_type": "code",
   "execution_count": null,
   "metadata": {},
   "outputs": [],
   "source": []
  },
  {
   "cell_type": "code",
   "execution_count": null,
   "metadata": {},
   "outputs": [],
   "source": []
  }
 ],
 "metadata": {
  "kernelspec": {
   "display_name": "Python 3",
   "language": "python",
   "name": "python3"
  },
  "language_info": {
   "codemirror_mode": {
    "name": "ipython",
    "version": 3
   },
   "file_extension": ".py",
   "mimetype": "text/x-python",
   "name": "python",
   "nbconvert_exporter": "python",
   "pygments_lexer": "ipython3",
   "version": "3.8.5"
  }
 },
 "nbformat": 4,
 "nbformat_minor": 4
}
