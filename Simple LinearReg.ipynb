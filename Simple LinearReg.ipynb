{
 "cells": [
  {
   "cell_type": "markdown",
   "metadata": {},
   "source": [
    "* Here we will create lin reg model but in this case model params and gradient calc will be updated and done manually"
   ]
  },
  {
   "cell_type": "code",
   "execution_count": 1,
   "metadata": {},
   "outputs": [],
   "source": [
    "import tensorflow as tf\n",
    "import numpy as np\n",
    "import matplotlib.pyplot as plt\n",
    "import pandas as pd"
   ]
  },
  {
   "cell_type": "code",
   "execution_count": 2,
   "metadata": {},
   "outputs": [],
   "source": [
    "# actual correct value of bias and W(weight)\n",
    "W_true = 2\n",
    "b_true = 0.5"
   ]
  },
  {
   "cell_type": "code",
   "execution_count": 3,
   "metadata": {},
   "outputs": [],
   "source": [
    "x = np.linspace(0, 3, 130)\n",
    "\n",
    "y = W_true * x + b_true + np.random.randn(*x.shape) * 0.5"
   ]
  },
  {
   "cell_type": "code",
   "execution_count": 5,
   "metadata": {},
   "outputs": [
    {
     "data": {
      "image/png": "[encoded data removed]",
      "text/plain": [
       "<Figure size 576x576 with 1 Axes>"
      ]
     },
     "metadata": {
      "needs_background": "light"
     },
     "output_type": "display_data"
    }
   ],
   "source": [
    "# data viz our gen data\n",
    "plt.figure(figsize = (8, 8))\n",
    "\n",
    "plt.scatter(x, y)\n",
    "plt.xlabel(\"x\")\n",
    "plt.ylabel(\"y\")\n",
    "\n",
    "plt.title(\"Training Data\")\n",
    "plt.show()"
   ]
  },
  {
   "cell_type": "code",
   "execution_count": 17,
   "metadata": {},
   "outputs": [],
   "source": [
    "# class to init w and b to be modified during training\n",
    "class LinearModel:\n",
    "    \n",
    "    def __init__(self):\n",
    "        self.weight = tf.Variable(np.random.randn(), name = \"w\")\n",
    "        self.bias = tf.Variable(np.random.randn(), name =\"b\")\n",
    "        \n",
    "    def __call__(self, x):  # called during forward pass of simple linreg model\n",
    "        return self.weight * x + self.bias"
   ]
  },
  {
   "cell_type": "code",
   "execution_count": 18,
   "metadata": {},
   "outputs": [],
   "source": [
    "def loss(y, y_pred):\n",
    "    return tf.reduce_mean(tf.square(y - y_pred))"
   ]
  },
  {
   "cell_type": "code",
   "execution_count": 25,
   "metadata": {},
   "outputs": [],
   "source": [
    "# training process of lin model\n",
    "def train(linear_model, x, y, lr = 0.01):\n",
    "    with tf.GradientTape() as tape:\n",
    "        \n",
    "        y_pred = linear_model(x)  # passing x calls the __call__ fun of linear model class after init\n",
    "        \n",
    "        current_loss = loss(y, y_pred)\n",
    "        \n",
    "    # calc gradient of current loss wrt weight and bias(trainable params)\n",
    "    d_weight, d_bias = tape.gradient(current_loss, [linear_model.weight, linear_model.bias])\n",
    "    \n",
    "    # updates weight value and bias value by subing lr* d_weight and d_bias from previous weight value\n",
    "    linear_model.weight.assign_sub(lr * d_weight)\n",
    "    linear_model.bias.assign_sub(lr * d_bias)"
   ]
  },
  {
   "cell_type": "code",
   "execution_count": 26,
   "metadata": {},
   "outputs": [],
   "source": [
    "linear_model = LinearModel()\n",
    "\n",
    "weights, biases = [], []\n",
    "\n",
    "epochs = 10\n",
    "\n",
    "lr = 0.15"
   ]
  },
  {
   "cell_type": "code",
   "execution_count": 27,
   "metadata": {},
   "outputs": [
    {
     "name": "stdout",
     "output_type": "stream",
     "text": [
      "Epoch count 0: Loss Value: 6.217810153961182\n",
      "Epoch count 1: Loss Value: 0.36469003558158875\n",
      "Epoch count 2: Loss Value: 0.2431085705757141\n",
      "Epoch count 3: Loss Value: 0.23974201083183289\n",
      "Epoch count 4: Loss Value: 0.23891152441501617\n",
      "Epoch count 5: Loss Value: 0.23822177946567535\n",
      "Epoch count 6: Loss Value: 0.23761320114135742\n",
      "Epoch count 7: Loss Value: 0.23707535862922668\n",
      "Epoch count 8: Loss Value: 0.2366001009941101\n",
      "Epoch count 9: Loss Value: 0.23618006706237793\n"
     ]
    }
   ],
   "source": [
    "for epoch_count in range(epochs):\n",
    "    weights.append(linear_model.weight.numpy())\n",
    "    biases.append(linear_model.bias.numpy())\n",
    "    \n",
    "    real_loss = loss(y, linear_model(x))\n",
    "    \n",
    "    train(linear_model, x, y, lr = lr)\n",
    "    \n",
    "    print(f\"Epoch count {epoch_count}: Loss Value: {real_loss.numpy()}\")"
   ]
  },
  {
   "cell_type": "code",
   "execution_count": 28,
   "metadata": {},
   "outputs": [
    {
     "data": {
      "image/png": "[encoded data removed]",
      "text/plain": [
       "<Figure size 576x576 with 1 Axes>"
      ]
     },
     "metadata": {
      "needs_background": "light"
     },
     "output_type": "display_data"
    }
   ],
   "source": [
    "# data viz on how w and b of trained model, match up with actau; w and b\n",
    "\n",
    "plt.figure(figsize = (8, 8))\n",
    "\n",
    "plt.plot(range(epochs), weights, \"r\", range(epochs), biases, \"b\")\n",
    "plt.plot([W_true] * epochs, \"r--\", [b_true] * epochs, \"b--\")\n",
    "\n",
    "plt.legend([\"w\", \"b\", \"true W\", \"true b\"])\n",
    "plt.show();\n",
    "\n",
    "# dotted lines is true value of w and b"
   ]
  },
  {
   "cell_type": "code",
   "execution_count": 29,
   "metadata": {},
   "outputs": [
    {
     "data": {
      "text/plain": [
       "(<tf.Variable 'w:0' shape=() dtype=float32, numpy=1.9231169>,\n",
       " <tf.Variable 'b:0' shape=() dtype=float32, numpy=0.6677973>)"
      ]
     },
     "execution_count": 29,
     "metadata": {},
     "output_type": "execute_result"
    }
   ],
   "source": [
    "# final w and b gotten via the model\n",
    "linear_model.weight, linear_model.bias"
   ]
  },
  {
   "cell_type": "code",
   "execution_count": 30,
   "metadata": {},
   "outputs": [
    {
     "data": {
      "text/plain": [
       "0.23580891"
      ]
     },
     "execution_count": 30,
     "metadata": {},
     "output_type": "execute_result"
    }
   ],
   "source": [
    "# mse\n",
    "rmse = loss(y, linear_model(x))\n",
    "\n",
    "rmse.numpy()"
   ]
  },
  {
   "cell_type": "code",
   "execution_count": 32,
   "metadata": {},
   "outputs": [
    {
     "data": {
      "image/png": "[encoded data removed]",
      "text/plain": [
       "<Figure size 576x576 with 1 Axes>"
      ]
     },
     "metadata": {
      "needs_background": "light"
     },
     "output_type": "display_data"
    }
   ],
   "source": [
    "# viz original data and linear model as a fitted line\n",
    "plt.figure(figsize = (8, 8))\n",
    "\n",
    "plt.plot(x, y, \"ro\", label = \"Original data\")\n",
    "plt.plot(x, linear_model(x), label = \"fitted line\")\n",
    "plt.title(\"Linear regression\")\n",
    "plt.legend()\n",
    "plt.show()"
   ]
  },
  {
   "cell_type": "markdown",
   "metadata": {},
   "source": [
    "***\n",
    "**Linear Reg using keras high level api**"
   ]
  },
  {
   "cell_type": "code",
   "execution_count": 33,
   "metadata": {},
   "outputs": [],
   "source": [
    "from tensorflow import keras\n",
    "from tensorflow.keras import layers"
   ]
  },
  {
   "cell_type": "code",
   "execution_count": 35,
   "metadata": {},
   "outputs": [
    {
     "data": {
      "text/plain": [
       "((130,), (130,))"
      ]
     },
     "execution_count": 35,
     "metadata": {},
     "output_type": "execute_result"
    }
   ],
   "source": [
    "x.shape, y.shape"
   ]
  },
  {
   "cell_type": "code",
   "execution_count": 36,
   "metadata": {},
   "outputs": [
    {
     "data": {
      "text/html": [
       "<div>\n",
       "<style scoped>\n",
       "    .dataframe tbody tr th:only-of-type {\n",
       "        vertical-align: middle;\n",
       "    }\n",
       "\n",
       "    .dataframe tbody tr th {\n",
       "        vertical-align: top;\n",
       "    }\n",
       "\n",
       "    .dataframe thead th {\n",
       "        text-align: right;\n",
       "    }\n",
       "</style>\n",
       "<table border=\"1\" class=\"dataframe\">\n",
       "  <thead>\n",
       "    <tr style=\"text-align: right;\">\n",
       "      <th></th>\n",
       "      <th>y</th>\n",
       "    </tr>\n",
       "  </thead>\n",
       "  <tbody>\n",
       "    <tr>\n",
       "      <th>0</th>\n",
       "      <td>1.096309</td>\n",
       "    </tr>\n",
       "    <tr>\n",
       "      <th>1</th>\n",
       "      <td>0.421293</td>\n",
       "    </tr>\n",
       "    <tr>\n",
       "      <th>2</th>\n",
       "      <td>1.326806</td>\n",
       "    </tr>\n",
       "    <tr>\n",
       "      <th>3</th>\n",
       "      <td>1.565924</td>\n",
       "    </tr>\n",
       "    <tr>\n",
       "      <th>4</th>\n",
       "      <td>-0.011383</td>\n",
       "    </tr>\n",
       "  </tbody>\n",
       "</table>\n",
       "</div>"
      ],
      "text/plain": [
       "          y\n",
       "0  1.096309\n",
       "1  0.421293\n",
       "2  1.326806\n",
       "3  1.565924\n",
       "4 -0.011383"
      ]
     },
     "execution_count": 36,
     "metadata": {},
     "output_type": "execute_result"
    }
   ],
   "source": [
    "x = pd.DataFrame(x, columns = [\"x\"])\n",
    "y = pd.DataFrame(y, columns = [\"y\"])\n",
    "\n",
    "y.head()"
   ]
  },
  {
   "cell_type": "code",
   "execution_count": 37,
   "metadata": {},
   "outputs": [
    {
     "data": {
      "text/plain": [
       "(130, 1)"
      ]
     },
     "execution_count": 37,
     "metadata": {},
     "output_type": "execute_result"
    }
   ],
   "source": [
    "x.shape"
   ]
  },
  {
   "cell_type": "code",
   "execution_count": 38,
   "metadata": {},
   "outputs": [],
   "source": [
    "model = keras.Sequential([\n",
    "    layers.Dense(1, input_shape = (1,), activation=\"linear\")\n",
    "])\n",
    "\n",
    "optimizer = tf.keras.optimizers.SGD(learning_rate=0.001)\n",
    "model.compile(loss = \"mse\", metrics = [\"mse\"], optimizer = optimizer)"
   ]
  },
  {
   "cell_type": "code",
   "execution_count": 39,
   "metadata": {},
   "outputs": [
    {
     "name": "stdout",
     "output_type": "stream",
     "text": [
      "Epoch 1/100\n",
      "5/5 [==============================] - 0s 4ms/step - loss: 23.0539 - mse: 23.0539\n",
      "Epoch 2/100\n",
      "5/5 [==============================] - 0s 3ms/step - loss: 21.1052 - mse: 21.1052\n",
      "Epoch 3/100\n",
      "5/5 [==============================] - 0s 3ms/step - loss: 19.7447 - mse: 19.7447\n",
      "Epoch 4/100\n",
      "5/5 [==============================] - 0s 2ms/step - loss: 18.5316 - mse: 18.5316\n",
      "Epoch 5/100\n",
      "5/5 [==============================] - 0s 3ms/step - loss: 17.2788 - mse: 17.2788\n",
      "Epoch 6/100\n",
      "5/5 [==============================] - 0s 3ms/step - loss: 16.0124 - mse: 16.0124\n",
      "Epoch 7/100\n",
      "5/5 [==============================] - 0s 3ms/step - loss: 14.9360 - mse: 14.9360\n",
      "Epoch 8/100\n",
      "5/5 [==============================] - 0s 4ms/step - loss: 13.9944 - mse: 13.9944\n",
      "Epoch 9/100\n",
      "5/5 [==============================] - 0s 4ms/step - loss: 13.0615 - mse: 13.0615\n",
      "Epoch 10/100\n",
      "5/5 [==============================] - 0s 3ms/step - loss: 12.1334 - mse: 12.1334\n",
      "Epoch 11/100\n",
      "5/5 [==============================] - 0s 3ms/step - loss: 11.3078 - mse: 11.3078\n",
      "Epoch 12/100\n",
      "5/5 [==============================] - 0s 3ms/step - loss: 10.4982 - mse: 10.4982\n",
      "Epoch 13/100\n",
      "5/5 [==============================] - 0s 3ms/step - loss: 9.8694 - mse: 9.8694\n",
      "Epoch 14/100\n",
      "5/5 [==============================] - 0s 3ms/step - loss: 9.2399 - mse: 9.2399\n",
      "Epoch 15/100\n",
      "5/5 [==============================] - 0s 3ms/step - loss: 8.6568 - mse: 8.6568\n",
      "Epoch 16/100\n",
      "5/5 [==============================] - 0s 2ms/step - loss: 8.1316 - mse: 8.1316\n",
      "Epoch 17/100\n",
      "5/5 [==============================] - 0s 2ms/step - loss: 7.4918 - mse: 7.4918\n",
      "Epoch 18/100\n",
      "5/5 [==============================] - 0s 2ms/step - loss: 7.0084 - mse: 7.0084\n",
      "Epoch 19/100\n",
      "5/5 [==============================] - 0s 2ms/step - loss: 6.4969 - mse: 6.4969\n",
      "Epoch 20/100\n",
      "5/5 [==============================] - 0s 3ms/step - loss: 6.0994 - mse: 6.0994\n",
      "Epoch 21/100\n",
      "5/5 [==============================] - 0s 3ms/step - loss: 5.6651 - mse: 5.6651\n",
      "Epoch 22/100\n",
      "5/5 [==============================] - 0s 2ms/step - loss: 5.2310 - mse: 5.2310\n",
      "Epoch 23/100\n",
      "5/5 [==============================] - 0s 3ms/step - loss: 4.8425 - mse: 4.8425\n",
      "Epoch 24/100\n",
      "5/5 [==============================] - 0s 4ms/step - loss: 4.5686 - mse: 4.5686\n",
      "Epoch 25/100\n",
      "5/5 [==============================] - 0s 3ms/step - loss: 4.2940 - mse: 4.2940\n",
      "Epoch 26/100\n",
      "5/5 [==============================] - 0s 4ms/step - loss: 4.0463 - mse: 4.0463\n",
      "Epoch 27/100\n",
      "5/5 [==============================] - 0s 3ms/step - loss: 3.7608 - mse: 3.7608\n",
      "Epoch 28/100\n",
      "5/5 [==============================] - 0s 4ms/step - loss: 3.4973 - mse: 3.4973\n",
      "Epoch 29/100\n",
      "5/5 [==============================] - 0s 3ms/step - loss: 3.2458 - mse: 3.2458\n",
      "Epoch 30/100\n",
      "5/5 [==============================] - 0s 2ms/step - loss: 3.0283 - mse: 3.0283\n",
      "Epoch 31/100\n",
      "5/5 [==============================] - 0s 2ms/step - loss: 2.8085 - mse: 2.8085\n",
      "Epoch 32/100\n",
      "5/5 [==============================] - 0s 2ms/step - loss: 2.6456 - mse: 2.6456\n",
      "Epoch 33/100\n",
      "5/5 [==============================] - 0s 2ms/step - loss: 2.4618 - mse: 2.4618\n",
      "Epoch 34/100\n",
      "5/5 [==============================] - 0s 2ms/step - loss: 2.2880 - mse: 2.2880\n",
      "Epoch 35/100\n",
      "5/5 [==============================] - 0s 3ms/step - loss: 2.1433 - mse: 2.1433\n",
      "Epoch 36/100\n",
      "5/5 [==============================] - 0s 3ms/step - loss: 2.0137 - mse: 2.0137\n",
      "Epoch 37/100\n",
      "5/5 [==============================] - 0s 3ms/step - loss: 1.9033 - mse: 1.9033\n",
      "Epoch 38/100\n",
      "5/5 [==============================] - 0s 2ms/step - loss: 1.7908 - mse: 1.7908\n",
      "Epoch 39/100\n",
      "5/5 [==============================] - 0s 3ms/step - loss: 1.6920 - mse: 1.6920\n",
      "Epoch 40/100\n",
      "5/5 [==============================] - 0s 2ms/step - loss: 1.5707 - mse: 1.5707\n",
      "Epoch 41/100\n",
      "5/5 [==============================] - 0s 2ms/step - loss: 1.4812 - mse: 1.4812\n",
      "Epoch 42/100\n",
      "5/5 [==============================] - 0s 3ms/step - loss: 1.4093 - mse: 1.4093\n",
      "Epoch 43/100\n",
      "5/5 [==============================] - 0s 2ms/step - loss: 1.3381 - mse: 1.3381\n",
      "Epoch 44/100\n",
      "5/5 [==============================] - 0s 2ms/step - loss: 1.2694 - mse: 1.2694\n",
      "Epoch 45/100\n",
      "5/5 [==============================] - 0s 2ms/step - loss: 1.2061 - mse: 1.2061\n",
      "Epoch 46/100\n",
      "5/5 [==============================] - 0s 3ms/step - loss: 1.1330 - mse: 1.1330\n",
      "Epoch 47/100\n",
      "5/5 [==============================] - 0s 2ms/step - loss: 1.0832 - mse: 1.0832\n",
      "Epoch 48/100\n",
      "5/5 [==============================] - 0s 3ms/step - loss: 1.0204 - mse: 1.0204\n",
      "Epoch 49/100\n",
      "5/5 [==============================] - 0s 2ms/step - loss: 0.9723 - mse: 0.9723\n",
      "Epoch 50/100\n",
      "5/5 [==============================] - 0s 3ms/step - loss: 0.9313 - mse: 0.9313\n",
      "Epoch 51/100\n",
      "5/5 [==============================] - 0s 3ms/step - loss: 0.8789 - mse: 0.8789\n",
      "Epoch 52/100\n",
      "5/5 [==============================] - 0s 3ms/step - loss: 0.8324 - mse: 0.8324\n",
      "Epoch 53/100\n",
      "5/5 [==============================] - 0s 5ms/step - loss: 0.7844 - mse: 0.7844\n",
      "Epoch 54/100\n",
      "5/5 [==============================] - 0s 3ms/step - loss: 0.7502 - mse: 0.7502\n",
      "Epoch 55/100\n",
      "5/5 [==============================] - 0s 5ms/step - loss: 0.7040 - mse: 0.7040\n",
      "Epoch 56/100\n",
      "5/5 [==============================] - 0s 5ms/step - loss: 0.6718 - mse: 0.6718\n",
      "Epoch 57/100\n",
      "5/5 [==============================] - 0s 1ms/step - loss: 0.6411 - mse: 0.6411\n",
      "Epoch 58/100\n",
      "5/5 [==============================] - 0s 2ms/step - loss: 0.6214 - mse: 0.6214\n",
      "Epoch 59/100\n",
      "5/5 [==============================] - 0s 3ms/step - loss: 0.6018 - mse: 0.6018\n",
      "Epoch 60/100\n",
      "5/5 [==============================] - 0s 3ms/step - loss: 0.5781 - mse: 0.5781\n",
      "Epoch 61/100\n",
      "5/5 [==============================] - 0s 2ms/step - loss: 0.5593 - mse: 0.5593\n",
      "Epoch 62/100\n",
      "5/5 [==============================] - 0s 1ms/step - loss: 0.5439 - mse: 0.5439\n",
      "Epoch 63/100\n",
      "5/5 [==============================] - 0s 3ms/step - loss: 0.5246 - mse: 0.5246\n",
      "Epoch 64/100\n",
      "5/5 [==============================] - ETA: 0s - loss: 0.5429 - mse: 0.542 - 0s 3ms/step - loss: 0.5093 - mse: 0.5093\n",
      "Epoch 65/100\n",
      "5/5 [==============================] - 0s 3ms/step - loss: 0.4975 - mse: 0.4975\n",
      "Epoch 66/100\n",
      "5/5 [==============================] - 0s 2ms/step - loss: 0.4839 - mse: 0.4839\n",
      "Epoch 67/100\n",
      "5/5 [==============================] - 0s 2ms/step - loss: 0.4703 - mse: 0.4703\n",
      "Epoch 68/100\n",
      "5/5 [==============================] - 0s 2ms/step - loss: 0.4576 - mse: 0.4576\n",
      "Epoch 69/100\n",
      "5/5 [==============================] - 0s 2ms/step - loss: 0.4490 - mse: 0.4490\n",
      "Epoch 70/100\n",
      "5/5 [==============================] - 0s 3ms/step - loss: 0.4399 - mse: 0.4399\n",
      "Epoch 71/100\n",
      "5/5 [==============================] - 0s 2ms/step - loss: 0.4327 - mse: 0.4327\n",
      "Epoch 72/100\n",
      "5/5 [==============================] - 0s 2ms/step - loss: 0.4214 - mse: 0.4214\n",
      "Epoch 73/100\n",
      "5/5 [==============================] - 0s 2ms/step - loss: 0.4147 - mse: 0.4147\n",
      "Epoch 74/100\n",
      "5/5 [==============================] - 0s 2ms/step - loss: 0.4031 - mse: 0.4031\n",
      "Epoch 75/100\n",
      "5/5 [==============================] - 0s 2ms/step - loss: 0.3915 - mse: 0.3915\n",
      "Epoch 76/100\n",
      "5/5 [==============================] - 0s 2ms/step - loss: 0.3868 - mse: 0.3868\n",
      "Epoch 77/100\n",
      "5/5 [==============================] - 0s 2ms/step - loss: 0.3799 - mse: 0.3799\n",
      "Epoch 78/100\n",
      "5/5 [==============================] - 0s 2ms/step - loss: 0.3725 - mse: 0.3725\n",
      "Epoch 79/100\n",
      "5/5 [==============================] - 0s 2ms/step - loss: 0.3680 - mse: 0.3680\n",
      "Epoch 80/100\n",
      "5/5 [==============================] - 0s 2ms/step - loss: 0.3657 - mse: 0.3657\n",
      "Epoch 81/100\n",
      "5/5 [==============================] - 0s 2ms/step - loss: 0.3620 - mse: 0.3620\n",
      "Epoch 82/100\n",
      "5/5 [==============================] - 0s 2ms/step - loss: 0.3564 - mse: 0.3564\n",
      "Epoch 83/100\n",
      "5/5 [==============================] - 0s 2ms/step - loss: 0.3527 - mse: 0.3527\n",
      "Epoch 84/100\n",
      "5/5 [==============================] - 0s 2ms/step - loss: 0.3460 - mse: 0.3460\n",
      "Epoch 85/100\n",
      "5/5 [==============================] - 0s 2ms/step - loss: 0.3405 - mse: 0.3405\n",
      "Epoch 86/100\n",
      "5/5 [==============================] - 0s 2ms/step - loss: 0.3358 - mse: 0.3358\n",
      "Epoch 87/100\n",
      "5/5 [==============================] - 0s 3ms/step - loss: 0.3331 - mse: 0.3331\n",
      "Epoch 88/100\n",
      "5/5 [==============================] - 0s 3ms/step - loss: 0.3300 - mse: 0.3300\n",
      "Epoch 89/100\n",
      "5/5 [==============================] - 0s 1ms/step - loss: 0.3286 - mse: 0.3286\n",
      "Epoch 90/100\n",
      "5/5 [==============================] - 0s 3ms/step - loss: 0.3263 - mse: 0.3263\n",
      "Epoch 91/100\n",
      "5/5 [==============================] - 0s 2ms/step - loss: 0.3236 - mse: 0.3236\n",
      "Epoch 92/100\n",
      "5/5 [==============================] - 0s 2ms/step - loss: 0.3203 - mse: 0.3203\n",
      "Epoch 93/100\n",
      "5/5 [==============================] - 0s 2ms/step - loss: 0.3190 - mse: 0.3190\n",
      "Epoch 94/100\n",
      "5/5 [==============================] - 0s 3ms/step - loss: 0.3179 - mse: 0.3179\n",
      "Epoch 95/100\n",
      "5/5 [==============================] - 0s 2ms/step - loss: 0.3164 - mse: 0.3164\n",
      "Epoch 96/100\n",
      "5/5 [==============================] - 0s 2ms/step - loss: 0.3157 - mse: 0.3157\n",
      "Epoch 97/100\n",
      "5/5 [==============================] - 0s 2ms/step - loss: 0.3147 - mse: 0.3147\n",
      "Epoch 98/100\n",
      "5/5 [==============================] - 0s 3ms/step - loss: 0.3144 - mse: 0.3144\n",
      "Epoch 99/100\n",
      "5/5 [==============================] - 0s 3ms/step - loss: 0.3126 - mse: 0.3126\n",
      "Epoch 100/100\n",
      "5/5 [==============================] - 0s 2ms/step - loss: 0.3118 - mse: 0.3118\n"
     ]
    },
    {
     "data": {
      "text/plain": [
       "<tensorflow.python.keras.callbacks.History at 0x1b2565aa640>"
      ]
     },
     "execution_count": 39,
     "metadata": {},
     "output_type": "execute_result"
    }
   ],
   "source": [
    "model.fit(x, y, epochs = 100)"
   ]
  },
  {
   "cell_type": "code",
   "execution_count": 40,
   "metadata": {},
   "outputs": [],
   "source": [
    "y_pred = model.predict(x)"
   ]
  },
  {
   "cell_type": "code",
   "execution_count": 41,
   "metadata": {},
   "outputs": [
    {
     "data": {
      "image/png": "[encoded data removed]",
      "text/plain": [
       "<Figure size 720x576 with 1 Axes>"
      ]
     },
     "metadata": {
      "needs_background": "light"
     },
     "output_type": "display_data"
    }
   ],
   "source": [
    "# data viz\n",
    "plt.figure(figsize = (10, 8))\n",
    "\n",
    "plt.scatter(x, y, c = \"blue\", label = \"Original data\")\n",
    "plt.plot(x, y_pred, color = \"r\", label=\"fitted line\")\n",
    "\n",
    "plt.title(\"Linear Regression\")\n",
    "plt.legend()\n",
    "plt.show()"
   ]
  },
  {
   "cell_type": "code",
   "execution_count": null,
   "metadata": {},
   "outputs": [],
   "source": []
  },
  {
   "cell_type": "code",
   "execution_count": null,
   "metadata": {},
   "outputs": [],
   "source": []
  },
  {
   "cell_type": "code",
   "execution_count": null,
   "metadata": {},
   "outputs": [],
   "source": []
  },
  {
   "cell_type": "code",
   "execution_count": null,
   "metadata": {},
   "outputs": [],
   "source": []
  },
  {
   "cell_type": "code",
   "execution_count": null,
   "metadata": {},
   "outputs": [],
   "source": []
  },
  {
   "cell_type": "code",
   "execution_count": null,
   "metadata": {},
   "outputs": [],
   "source": []
  },
  {
   "cell_type": "code",
   "execution_count": null,
   "metadata": {},
   "outputs": [],
   "source": []
  },
  {
   "cell_type": "code",
   "execution_count": null,
   "metadata": {},
   "outputs": [],
   "source": []
  },
  {
   "cell_type": "code",
   "execution_count": null,
   "metadata": {},
   "outputs": [],
   "source": []
  },
  {
   "cell_type": "code",
   "execution_count": null,
   "metadata": {},
   "outputs": [],
   "source": []
  },
  {
   "cell_type": "code",
   "execution_count": null,
   "metadata": {},
   "outputs": [],
   "source": []
  },
  {
   "cell_type": "code",
   "execution_count": null,
   "metadata": {},
   "outputs": [],
   "source": []
  },
  {
   "cell_type": "code",
   "execution_count": null,
   "metadata": {},
   "outputs": [],
   "source": []
  }
 ],
 "metadata": {
  "kernelspec": {
   "display_name": "Python 3",
   "language": "python",
   "name": "python3"
  },
  "language_info": {
   "codemirror_mode": {
    "name": "ipython",
    "version": 3
   },
   "file_extension": ".py",
   "mimetype": "text/x-python",
   "name": "python",
   "nbconvert_exporter": "python",
   "pygments_lexer": "ipython3",
   "version": "3.8.5"
  }
 },
 "nbformat": 4,
 "nbformat_minor": 4
}
